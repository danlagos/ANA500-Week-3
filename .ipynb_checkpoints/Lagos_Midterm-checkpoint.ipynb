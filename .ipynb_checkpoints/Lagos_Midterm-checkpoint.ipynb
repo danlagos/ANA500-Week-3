{
 "cells": [
  {
   "cell_type": "markdown",
   "id": "ceb2cda8",
   "metadata": {},
   "source": [
    "Imports"
   ]
  },
  {
   "cell_type": "code",
   "execution_count": 1,
   "id": "f096b5ce",
   "metadata": {},
   "outputs": [],
   "source": [
    "import numpy as np\n",
    "import pandas as pd\n",
    "import statistics as st\n",
    "import seaborn as sns\n",
    "import matplotlib.pyplot as plt\n",
    "from matplotlib.ticker import PercentFormatter\n",
    "from sklearn.metrics import accuracy_score \n",
    "from sklearn.metrics import confusion_matrix\n",
    "from sklearn.model_selection import train_test_split \n",
    "from sklearn.tree import DecisionTreeClassifier\n",
    "from random import randint"
   ]
  },
  {
   "cell_type": "code",
   "execution_count": 2,
   "id": "2d03a50f",
   "metadata": {},
   "outputs": [],
   "source": [
    "%matplotlib inline"
   ]
  },
  {
   "cell_type": "markdown",
   "id": "3ea5e272",
   "metadata": {},
   "source": [
    "1:  Explain the role of Python in data science\n",
    "\n",
    "my response:  Python is an easy language to learn and use.  Python has built in libraries and functions that make calculating mathmatical problems and running analysis easier. For example, Numpy, Panda's, Scikit-learn these are just a few libraries that make running analysis simpler."
   ]
  },
  {
   "cell_type": "markdown",
   "id": "8009cd3e",
   "metadata": {},
   "source": [
    "2:  Explain the scientific method\n",
    "\n",
    "my response:  An empirical method for acquiring knowledge.  Involves systematic observation, measurement, experimentation, and formulation, testing and modification of hypothesis.  We observe and measure.  We then use this as a basis to formulate a hypothesis.  The hypothesis is tested in an experiment.  The results of the experiment then allow rejection or acceptance of hypothesis.  Then we iterate using the results of the experiment to formulate now hypothesis or predictions.  The scientific method is also described as having 7 steps: Question, Research, Hypothesis, Experiment, Data Analysis, Conclusion, and Communication."
   ]
  },
  {
   "cell_type": "markdown",
   "id": "e52cbefc",
   "metadata": {},
   "source": [
    "3:  Outline the typical steps in a data science project and provide a brief description of each\n",
    "\n",
    "My Response:  \n",
    "\n",
    "Acquire – identify data sets, retrieve data, query data.  The goal is to find and acquire data that is relevant to our research question.\n",
    "\n",
    "Prepare – explore and pre-process.  The goal is to ensure that we understand the data we find.  This implies that during the exploration process questions about the data will arise, these must be answered.  Understanding of the data is facilitated by visualization and charts (histograms and frequency charts, as an example), but also involves identifying the characteristics of the data (what do the columns and rows mean in a given dataset).  Pre-processing involves “cleaning” the data.  Data will come with missing or erroneous values.  This must be dealt with appropriately.  Also, data will more then likely be in a format not conducive to analysis, categorical variables are coded as strings as an example.  Pre-processing also involves formatting all relevant variables into formats conducive to analysis.\n",
    "\n",
    "Analyze data – select analytical technique, build models.  Based on the research question, and the type of data you possess an analytical technique is employed and your model is built.  As an example, if you have two continuous variables, a type of linear regression is called for.  If you have several categorical variables, a decision tree may be appropriate.  Using the right analytical technique means identifying the strengths and weaknesses of a given technique and applying appropriately.  A model will be produced.  It is implied that the strength and accuracy of the model is identified.  As an example, in a linear regression statistical significance based on p-values vs alpha levels tell you if the model is significant to the research question.  R-squared and adjusted r-squared tells you how accurate the model is by telling you how much of the variation is explained by the model.  An analysis of residual plots will tell you if the data conforms to the assumptions of a linear regression.  All models have an analogue of what I described and must be analyzed to determine the strength and accuracy of the model produced.\n",
    "\n",
    "Report – communicate results.  The best analysis is worthless if not communicated.  The best communication is worthless if not tailored to those you are reporting too.  Visualization is important, as it is a very effective and powerful method of communicating results.  \n",
    "\n",
    "Act – apply results, connect results with the chosen problem statement or business question.  Normally the Data Scientist or Machine Learning engineer will not always have the authority to implement actions.  However, this does not mean that we do not provide recommendations for actions based on our analysis.  \n"
   ]
  },
  {
   "cell_type": "markdown",
   "id": "5da0d813",
   "metadata": {},
   "source": [
    "4:  Create the variables x = 2 and y = 3, then determine what each of the following statements displays: \n",
    "\n",
    "    a.\tprint('x =', x)\n",
    "    b.\tprint('Value of', x, '+', x, 'is', (x + x))\n",
    "    c.\tprint('x =')\n",
    "    d.\tprint((x + y), 'x =', (y + x))\n"
   ]
  },
  {
   "cell_type": "code",
   "execution_count": 3,
   "id": "d786b923",
   "metadata": {},
   "outputs": [],
   "source": [
    "x = 2\n",
    "y = 3"
   ]
  },
  {
   "cell_type": "code",
   "execution_count": 4,
   "id": "2fd762de",
   "metadata": {
    "scrolled": true
   },
   "outputs": [
    {
     "name": "stdout",
     "output_type": "stream",
     "text": [
      "x= 2\n"
     ]
    }
   ],
   "source": [
    "print('x=', x)"
   ]
  },
  {
   "cell_type": "code",
   "execution_count": 5,
   "id": "ff558b87",
   "metadata": {},
   "outputs": [
    {
     "name": "stdout",
     "output_type": "stream",
     "text": [
      "Value of 2 + 2 is 4\n"
     ]
    }
   ],
   "source": [
    "print('Value of', x, '+', x, 'is', (x + x))"
   ]
  },
  {
   "cell_type": "code",
   "execution_count": 6,
   "id": "063491b3",
   "metadata": {},
   "outputs": [
    {
     "name": "stdout",
     "output_type": "stream",
     "text": [
      "x =\n"
     ]
    }
   ],
   "source": [
    "print('x =')"
   ]
  },
  {
   "cell_type": "code",
   "execution_count": 7,
   "id": "d169f556",
   "metadata": {
    "scrolled": true
   },
   "outputs": [
    {
     "name": "stdout",
     "output_type": "stream",
     "text": [
      "5 x = 5\n"
     ]
    }
   ],
   "source": [
    "print((x + y), 'x =', (y + x))"
   ]
  },
  {
   "cell_type": "markdown",
   "id": "004162bd",
   "metadata": {},
   "source": [
    "5:  Replace *** in the following code with a statement that will print a message like 'Congratulations! Your grade of 91 earns you an A in this course'. Your statement should print the value stored in the variable grade:"
   ]
  },
  {
   "cell_type": "code",
   "execution_count": 8,
   "id": "4bd7b73a",
   "metadata": {},
   "outputs": [
    {
     "name": "stdout",
     "output_type": "stream",
     "text": [
      "Congratulations! Your grade of 91 earns you an A in this course\n"
     ]
    }
   ],
   "source": [
    "grade = 91\n",
    "if grade >= 90:\n",
    "    response = f'Congratulations! Your grade of {grade} earns you an A in this course'\n",
    "    print(response)"
   ]
  },
  {
   "cell_type": "markdown",
   "id": "8794d907",
   "metadata": {},
   "source": [
    "6:  Create a script that plays the part of the independent computer, giving its user a simple medical diagnosis. The script should prompt the user with 'What is your problem?' When the user answers and presses Enter, the script should simply ignore the user’s input, then prompt the user again with 'Have you had this problem before (yes or no)?' If the user enters 'yes', print 'Well, you have it again.' If the user answers 'no', print 'Well, you have it now.' Would this conversation convince the user that the entity at the other end exhibited intelligent behavior? Why or why not?"
   ]
  },
  {
   "cell_type": "code",
   "execution_count": 9,
   "id": "a2d5419e",
   "metadata": {},
   "outputs": [
    {
     "name": "stdout",
     "output_type": "stream",
     "text": [
      "What is your problem?  \n",
      " \n",
      "Have you had this problem before (yes/no)?  yes\n",
      "Well, you have it again.\n"
     ]
    }
   ],
   "source": [
    "response_yes = 'Well, you have it again.'\n",
    "respones_no = 'Well, you have it now.'\n",
    "input('What is your problem?  ')\n",
    "print(' ') # this is just to ensure that nothing prints - the question asks to ignore the input\n",
    "q2 = input('Have you had this problem before (yes/no)?  ')\n",
    "if (q2 == 'yes'):\n",
    "    print(response_yes)\n",
    "if (q2 == 'no'):\n",
    "    print(respones_no)"
   ]
  },
  {
   "cell_type": "markdown",
   "id": "233c834e",
   "metadata": {},
   "source": [
    "7:  Use arange to create a 2-by-2 array containing the numbers 0–3. Use broadcasting to perform each of the following operations on the original array:\n",
    "\n",
    "    a.\tCube every element of the array.\n",
    "    b.\tAdd 7 to every element of the array.\n",
    "    c.\tMultiply every element of the array by 2.\n"
   ]
  },
  {
   "cell_type": "code",
   "execution_count": 25,
   "id": "2f97ee73",
   "metadata": {},
   "outputs": [
    {
     "data": {
      "text/plain": [
       "array([[0, 1],\n",
       "       [2, 3]])"
      ]
     },
     "execution_count": 25,
     "metadata": {},
     "output_type": "execute_result"
    }
   ],
   "source": [
    "new_arr = np.arange(4).reshape(2,2)\n",
    "new_arr"
   ]
  },
  {
   "cell_type": "code",
   "execution_count": 26,
   "id": "a0859e82",
   "metadata": {
    "scrolled": true
   },
   "outputs": [
    {
     "data": {
      "text/plain": [
       "array([[ 0,  1],\n",
       "       [ 8, 27]], dtype=int32)"
      ]
     },
     "execution_count": 26,
     "metadata": {},
     "output_type": "execute_result"
    }
   ],
   "source": [
    "#  part a\n",
    "new_arr**3"
   ]
  },
  {
   "cell_type": "code",
   "execution_count": 27,
   "id": "29181ecb",
   "metadata": {},
   "outputs": [
    {
     "data": {
      "text/plain": [
       "array([[ 7,  8],\n",
       "       [ 9, 10]])"
      ]
     },
     "execution_count": 27,
     "metadata": {},
     "output_type": "execute_result"
    }
   ],
   "source": [
    "# b\n",
    "new_arr+7"
   ]
  },
  {
   "cell_type": "code",
   "execution_count": 28,
   "id": "4485261e",
   "metadata": {
    "scrolled": true
   },
   "outputs": [
    {
     "data": {
      "text/plain": [
       "array([[0, 2],\n",
       "       [4, 6]])"
      ]
     },
     "execution_count": 28,
     "metadata": {},
     "output_type": "execute_result"
    }
   ],
   "source": [
    "# c\n",
    "new_arr*2"
   ]
  },
  {
   "cell_type": "markdown",
   "id": "dd62f300",
   "metadata": {},
   "source": [
    "8:  Create an array containing the values 1–15, reshape it into a 3-by-5 array, then use indexing and slicing techniques to perform each of the following operations:\n",
    "\n",
    "    a.\tSelect row 2.\n",
    "    b.\tSelect column 5.\n",
    "    c.\tSelect rows 0 and 1.\n",
    "    d.\tSelect columns 2–4.\n",
    "    e.\tSelect the element that is in row 1 and column 4.\n",
    "    f.\tSelect all elements from rows 1 and 2 that are in columns 0, 2 and 4."
   ]
  },
  {
   "cell_type": "code",
   "execution_count": 29,
   "id": "8630abea",
   "metadata": {
    "scrolled": true
   },
   "outputs": [
    {
     "name": "stdout",
     "output_type": "stream",
     "text": [
      "[[ 1  2  3  4  5]\n",
      " [ 6  7  8  9 10]\n",
      " [11 12 13 14 15]]\n"
     ]
    }
   ],
   "source": [
    "new_arr8 = np.arange(1, 16).reshape(3, 5)\n",
    "print(new_arr8)"
   ]
  },
  {
   "cell_type": "code",
   "execution_count": 30,
   "id": "b8f4b53f",
   "metadata": {
    "scrolled": true
   },
   "outputs": [
    {
     "name": "stdout",
     "output_type": "stream",
     "text": [
      "[ 6  7  8  9 10]\n"
     ]
    }
   ],
   "source": [
    "# A Select row 2  NOTE using indexing starting at 0\n",
    "print(new_arr8[1])"
   ]
  },
  {
   "cell_type": "code",
   "execution_count": 31,
   "id": "abc66902",
   "metadata": {},
   "outputs": [
    {
     "name": "stdout",
     "output_type": "stream",
     "text": [
      "5 10 15\n"
     ]
    }
   ],
   "source": [
    "# b.Select column 5. NOTE:  the only way to do this is to ignore that indexing starts at 0.\n",
    "print(new_arr8[0][4], new_arr8[1][4], new_arr8[2][4])"
   ]
  },
  {
   "cell_type": "code",
   "execution_count": 32,
   "id": "73d9db5d",
   "metadata": {},
   "outputs": [
    {
     "name": "stdout",
     "output_type": "stream",
     "text": [
      "[[ 1  2  3  4  5]\n",
      " [ 6  7  8  9 10]]\n"
     ]
    }
   ],
   "source": [
    "# c Select rows 0 and 1.  NOTE using indexing starting at 0\n",
    "print(new_arr8[0:2])"
   ]
  },
  {
   "cell_type": "code",
   "execution_count": 33,
   "id": "ca445e00",
   "metadata": {},
   "outputs": [
    {
     "name": "stdout",
     "output_type": "stream",
     "text": [
      "[2 3 4] [7 8 9] [12 13 14]\n"
     ]
    }
   ],
   "source": [
    "# d Select columns 2–4. NOTE using indexing starting at 0\n",
    "print(new_arr8[0][1:4], new_arr8[1][1:4], new_arr8[2][1:4])"
   ]
  },
  {
   "cell_type": "code",
   "execution_count": 34,
   "id": "8a553455",
   "metadata": {},
   "outputs": [
    {
     "name": "stdout",
     "output_type": "stream",
     "text": [
      "4\n"
     ]
    }
   ],
   "source": [
    "# e Select the element that is in row 1 and column 4. NOTE using indexing starting at 0\n",
    "print(new_arr8[0][3])"
   ]
  },
  {
   "cell_type": "code",
   "execution_count": 35,
   "id": "a32fb7dc",
   "metadata": {},
   "outputs": [
    {
     "name": "stdout",
     "output_type": "stream",
     "text": [
      "[1 3 5] [ 6  8 10] [11 13 15]\n"
     ]
    }
   ],
   "source": [
    "# f Select all elements from rows 1 and 2 that are in columns 0, 2 and 4. NOTE using indexing starting at 0\n",
    "print(new_arr8[0][0:5:2], new_arr8[1][0:5:2], new_arr8[2][0:5:2])"
   ]
  },
  {
   "cell_type": "markdown",
   "id": "7ab5c928",
   "metadata": {},
   "source": [
    "9:  Use a list comprehension to create a list of 50 random values in the range 1 through 10. Use NumPy’s unique function to obtain the unique values and their frequencies. Display the results."
   ]
  },
  {
   "cell_type": "code",
   "execution_count": 36,
   "id": "8bb8c60b",
   "metadata": {},
   "outputs": [
    {
     "name": "stdout",
     "output_type": "stream",
     "text": [
      "Uniquie occurrences\n",
      "[[ 1  2  3  4  5  6  7  8  9 10]\n",
      " [ 5  3  7  4  3  5  4  6  4  9]]\n"
     ]
    }
   ],
   "source": [
    "randomlist=[randint(1, 10) for i in range (0,50)]\n",
    "a=np.array(randomlist)\n",
    "elements,frequencies=np.unique(a, return_counts=True)\n",
    "print('Uniquie occurrences')\n",
    "print(np.asarray((elements,frequencies)))"
   ]
  },
  {
   "cell_type": "markdown",
   "id": "3c84b9ac",
   "metadata": {},
   "source": [
    "Twenty students were asked to rate on a scale of 1 to 5 the quality of the food in the student cafeteria, with 1 being “awful” and 5 being “excellent.” Place the 20 responses in a list:\n",
    "\n",
    "1, 2, 5, 4, 3, 5, 2, 1, 3, 3, 1, 4, 3, 3, 3, 2, 3, 3, 2, 5\n",
    "\n",
    "Determine and display the frequency of each rating. Use the built-in functions, statistics module functions and NumPy functions to display the following response statistics: minimum, maximum, range, mean, median, mode, variance and standard deviation"
   ]
  },
  {
   "cell_type": "code",
   "execution_count": 37,
   "id": "045120ca",
   "metadata": {
    "scrolled": true
   },
   "outputs": [
    {
     "name": "stdout",
     "output_type": "stream",
     "text": [
      "1\n",
      "5\n",
      "4\n",
      "2.9\n",
      "3.0\n",
      "3\n",
      "1.49\n",
      "1.2206555615733703\n"
     ]
    }
   ],
   "source": [
    "raw_responses = [1, 2, 5, 4, 3, 5, 2, 1, 3, 3, 1, 4, 3, 3, 3, 2, 3, 3, 2, 5]\n",
    "student_responses = np.array(raw_responses)\n",
    "print(np.min(student_responses)) # min\n",
    "print(np.max(student_responses)) # max\n",
    "print(np.max(student_responses) - np.min(student_responses)) # range\n",
    "print(np.mean(student_responses)) # mean\n",
    "print(np.median(student_responses)) # median\n",
    "print(st.mode(student_responses)) # mode\n",
    "print(np.var(student_responses))# variance\n",
    "print(np.std(student_responses))# standard deviation"
   ]
  },
  {
   "cell_type": "markdown",
   "id": "11c7738e",
   "metadata": {},
   "source": [
    "Using the list in the previous problem (Problem 10.), display a bar chart showing the response frequencies and their percentages of the total responses"
   ]
  },
  {
   "cell_type": "code",
   "execution_count": 64,
   "id": "8e12c967",
   "metadata": {
    "scrolled": true
   },
   "outputs": [
    {
     "data": {
      "image/png": "[encoded data removed]",
      "text/plain": [
       "<Figure size 432x288 with 2 Axes>"
      ]
     },
     "metadata": {
      "needs_background": "light"
     },
     "output_type": "display_data"
    }
   ],
   "source": [
    "fig, axs = plt.subplots(2, 1, tight_layout=True)\n",
    "\n",
    "axs[0].hist(student_responses, bins=5, edgecolor='black')\n",
    "axs[0].set_title('Food Quality, Survey Responses')\n",
    "axs[0].set_xlabel('Rating')\n",
    "axs[0].set_ylabel('Count')\n",
    "\n",
    "axs[1].hist(student_responses, bins=5, edgecolor='black')\n",
    "axs[1].set_title('Food Quality, Survey Responses')\n",
    "axs[1].set_xlabel('Rating')\n",
    "axs[1].set_ylabel('percentage')\n",
    "axs[1].yaxis.set_major_formatter(PercentFormatter(xmax=20))"
   ]
  },
  {
   "cell_type": "code",
   "execution_count": null,
   "id": "24bf5fb1",
   "metadata": {},
   "outputs": [],
   "source": []
  }
 ],
 "metadata": {
  "kernelspec": {
   "display_name": "Python 3 (ipykernel)",
   "language": "python",
   "name": "python3"
  },
  "language_info": {
   "codemirror_mode": {
    "name": "ipython",
    "version": 3
   },
   "file_extension": ".py",
   "mimetype": "text/x-python",
   "name": "python",
   "nbconvert_exporter": "python",
   "pygments_lexer": "ipython3",
   "version": "3.9.7"
  }
 },
 "nbformat": 4,
 "nbformat_minor": 5
}
